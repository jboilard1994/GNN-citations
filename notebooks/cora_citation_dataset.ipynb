{
 "cells": [
  {
   "cell_type": "markdown",
   "metadata": {},
   "source": [
    "\n",
    "# Cora citation dataset exploratory data analysis\n",
    "In this document, we will explore the structure and the content of the dataset, and attempt to formulate a way to best exploit the data for a classificaiton task."
   ]
  },
  {
   "cell_type": "markdown",
   "metadata": {},
   "source": [
    "## Download and extract Cora dataset"
   ]
  },
  {
   "cell_type": "code",
   "execution_count": null,
   "metadata": {},
   "outputs": [],
   "source": [
    "import requests\n",
    "import tarfile\n",
    "import os\n",
    "import pandas as pd\n",
    "\n",
    "# Step 1: Download the .tgz file\n",
    "url = 'https://linqs-data.soe.ucsc.edu/public/lbc/cora.tgz'  # Replace with the actual URL\n",
    "output_path = 'cora.tgz'\n",
    "\n",
    "# Download the file\n",
    "response = requests.get(url)\n",
    "with open(output_path, 'wb') as f:\n",
    "    f.write(response.content)\n",
    "print(f\"File downloaded: {output_path}\")\n",
    "\n",
    "# Step 2: Extract the .tgz file\n",
    "extract_folder = 'data'\n",
    "os.makedirs(extract_folder, exist_ok=True)\n",
    "\n",
    "with tarfile.open(output_path, 'r:gz') as tar_ref:\n",
    "    tar_ref.extractall(extract_folder)\n",
    "print(f\"File extracted to: {extract_folder}\")\n",
    "os.remove(output_path)"
   ]
  },
  {
   "cell_type": "markdown",
   "metadata": {},
   "source": [
    "## loading and sampling the citation csv"
   ]
  },
  {
   "cell_type": "code",
   "execution_count": null,
   "metadata": {},
   "outputs": [],
   "source": [
    "import networkx as nx\n",
    "data_dir = f\"{os.getcwd()}/{extract_folder}/cora\"\n",
    "edgelist = pd.read_csv(os.path.join(data_dir, \"cora.cites\"), sep='\\t', header=None, names=[\"target\", \"source\"])\n",
    "edgelist[\"label\"] = \"cites\"\n",
    "\n",
    "print(\"Citations between source and target articles\")\n",
    "edgelist.sample(frac=1).head(5)\n"
   ]
  },
  {
   "cell_type": "markdown",
   "metadata": {},
   "source": [
    "## Loading and sampling the word content CSV "
   ]
  },
  {
   "cell_type": "code",
   "execution_count": null,
   "metadata": {},
   "outputs": [],
   "source": [
    "feature_names = [\"w_{}\".format(ii) for ii in range(1433)]\n",
    "node_data = pd.read_csv(os.path.join(data_dir, \"cora.content\"), sep='\\t', header=None)\n",
    "node_data.columns = [\"index\"] + [\"w_{}\".format(i) for i, __ in enumerate(node_data.columns[1:-1])] + [\"subject\"]\n",
    "node_data = node_data.set_index(\"index\")\n",
    "\n",
    "print(\"\"\"Table showing presence/absence(1/0) of a given word in the article.\n",
    "For example, W_0 corresponds to the index of a specific technical term.\n",
    "Finally, the subject of the paper represented by the row is available in the final column\"\"\")\n",
    "node_data.head(5)"
   ]
  }
 ],
 "metadata": {
  "kernelspec": {
   "display_name": "GNN-cite",
   "language": "python",
   "name": "python3"
  },
  "language_info": {
   "codemirror_mode": {
    "name": "ipython",
    "version": 3
   },
   "file_extension": ".py",
   "mimetype": "text/x-python",
   "name": "python",
   "nbconvert_exporter": "python",
   "pygments_lexer": "ipython3",
   "version": "3.12.0"
  }
 },
 "nbformat": 4,
 "nbformat_minor": 2
}
