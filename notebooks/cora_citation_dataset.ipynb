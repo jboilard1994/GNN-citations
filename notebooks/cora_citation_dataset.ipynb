{
 "cells": [
  {
   "cell_type": "markdown",
   "metadata": {},
   "source": [
    "## Download Cora dataset and make a networkx graph from it"
   ]
  },
  {
   "cell_type": "code",
   "execution_count": 3,
   "metadata": {},
   "outputs": [
    {
     "name": "stdout",
     "output_type": "stream",
     "text": [
      "File downloaded: cora.tgz\n",
      "File extracted to: extracted_files\n",
      "Extracted files: ['cora']\n"
     ]
    }
   ],
   "source": [
    "import requests\n",
    "import tarfile\n",
    "import os\n",
    "\n",
    "# Step 1: Download the .tgz file\n",
    "url = 'https://linqs-data.soe.ucsc.edu/public/lbc/cora.tgz'  # Replace with the actual URL\n",
    "output_path = 'cora.tgz'\n",
    "\n",
    "# Download the file\n",
    "response = requests.get(url)\n",
    "with open(output_path, 'wb') as f:\n",
    "    f.write(response.content)\n",
    "print(f\"File downloaded: {output_path}\")\n",
    "\n",
    "# Step 2: Extract the .tgz file\n",
    "extract_folder = 'extracted_files'\n",
    "os.makedirs(extract_folder, exist_ok=True)\n",
    "\n",
    "with tarfile.open(output_path, 'r:gz') as tar_ref:\n",
    "    tar_ref.extractall(extract_folder)\n",
    "print(f\"File extracted to: {extract_folder}\")\n",
    "os.remove(output_path)\n",
    "\n",
    "# Step 3: List the contents of the extracted folder\n",
    "extracted_files = os.listdir(extract_folder)\n",
    "print(\"Extracted files:\", extracted_files)\n"
   ]
  }
 ],
 "metadata": {
  "kernelspec": {
   "display_name": "GNN-cite",
   "language": "python",
   "name": "python3"
  },
  "language_info": {
   "codemirror_mode": {
    "name": "ipython",
    "version": 3
   },
   "file_extension": ".py",
   "mimetype": "text/x-python",
   "name": "python",
   "nbconvert_exporter": "python",
   "pygments_lexer": "ipython3",
   "version": "3.12.0"
  }
 },
 "nbformat": 4,
 "nbformat_minor": 2
}
